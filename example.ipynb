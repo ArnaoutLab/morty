{
 "cells": [
  {
   "cell_type": "code",
   "execution_count": 9,
   "metadata": {},
   "outputs": [],
   "source": [
    "Generate community input files with data resembling amino-acid sequences\n",
    "\n",
    "with open(\"Examples/immune_test_1_species_to_count.txt\", \"w\") as f, open(\"Examples/immune_test_2_species_to_count.txt\", \"w\") as g, open(\"Examples/immune_test_3_species_to_count.txt\", \"w\") as h:\n",
    "    f.write(\"CARPQST\\t1\\n\")\n",
    "    f.write(\"CARPQSP\\t1\")\n",
    "    g.write(\"CARPQST\\t1\\n\")\n",
    "    g.write(\"MALMNN\\t1\")\n",
    "    h.write(\"WFALPCV\\t1\\n\")\n",
    "    h.write(\"EEIYREEEEE\\t1\")"
   ]
  },
  {
   "cell_type": "code",
   "execution_count": 15,
   "metadata": {},
   "outputs": [
    {
     "ename": "SyntaxError",
     "evalue": "invalid syntax (<ipython-input-15-4b1f8dc6a11e>, line 2)",
     "output_type": "error",
     "traceback": [
      "\u001b[0;36m  File \u001b[0;32m\"<ipython-input-15-4b1f8dc6a11e>\"\u001b[0;36m, line \u001b[0;32m2\u001b[0m\n\u001b[0;31m    run -i morty.py -cn 'immune_test_1' -mo alpha -if 'Examples/immune_test_1_species_to_count.txt' -qs '[0., 1., 2., inf]' -rf 'Examples/immune_test_1_species_to_count.txt' --master_output_dir 'Examples'\u001b[0m\n\u001b[0m           ^\u001b[0m\n\u001b[0;31mSyntaxError\u001b[0m\u001b[0;31m:\u001b[0m invalid syntax\n"
     ]
    }
   ],
   "source": [
    "\n",
    "# Run alpha diversity on one of these communities.\n",
    "python3 morty.py -cn 'immune_test_1' -mo alpha -if 'Examples/immune_test_1_species_to_count.txt' -qs '[0., 1., 2., inf]' -rf 'Examples/immune_test_1_species_to_count.txt' --master_output_dir 'Examples'\n",
    "\n",
    "# Run beta diversity on pairs of these communities.\n",
    "python3 morty.py -cn 'immune_test_1,immune_test_2' -mo beta -if \"Examples/immune_test_1_species_to_count.txt,Examples/immune_test_2_species_to_count.txt\" -qs '[0.0]' --verbose --master_output_dir 'Examples'\n",
    "\"\"\"\n",
    "\n"
   ]
  },
  {
   "cell_type": "code",
   "execution_count": null,
   "metadata": {},
   "outputs": [],
   "source": []
  },
  {
   "cell_type": "code",
   "execution_count": null,
   "metadata": {},
   "outputs": [],
   "source": []
  },
  {
   "cell_type": "code",
   "execution_count": null,
   "metadata": {},
   "outputs": [],
   "source": [
    "\n"
   ]
  },
  {
   "cell_type": "code",
   "execution_count": null,
   "metadata": {},
   "outputs": [],
   "source": []
  },
  {
   "cell_type": "code",
   "execution_count": null,
   "metadata": {},
   "outputs": [],
   "source": []
  },
  {
   "cell_type": "code",
   "execution_count": null,
   "metadata": {},
   "outputs": [],
   "source": []
  }
 ],
 "metadata": {
  "kernelspec": {
   "display_name": "Python 3",
   "language": "python",
   "name": "python3"
  },
  "language_info": {
   "codemirror_mode": {
    "name": "ipython",
    "version": 3
   },
   "file_extension": ".py",
   "mimetype": "text/x-python",
   "name": "python",
   "nbconvert_exporter": "python",
   "pygments_lexer": "ipython3",
   "version": "3.8.5"
  }
 },
 "nbformat": 4,
 "nbformat_minor": 4
}
